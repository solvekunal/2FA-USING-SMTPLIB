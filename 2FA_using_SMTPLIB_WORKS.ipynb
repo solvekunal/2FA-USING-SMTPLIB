{
 "cells": [
  {
   "cell_type": "code",
   "execution_count": 1,
   "id": "d658fe90-ca87-4061-a96e-1293869ff8eb",
   "metadata": {},
   "outputs": [],
   "source": [
    "import smtplib\n",
    "import random\n",
    "import string\n",
    "from email.mime.text import MIMEText\n",
    "from email.mime.multipart import MIMEMultipart"
   ]
  },
  {
   "cell_type": "code",
   "execution_count": 5,
   "id": "95101e6f-2c46-4fcb-9e5d-b72d20177234",
   "metadata": {},
   "outputs": [],
   "source": [
    "# Function to generate a random OTP\n",
    "def generate_otp(length=6):\n",
    "    digits = string.digits\n",
    "    otp = ''.join(random.choice(digits) for i in range(length))\n",
    "    return otp\n",
    "\n",
    "# Function to send the OTP to the user's email\n",
    "def send_otp_via_email(email, otp):\n",
    "    # Email credentials\n",
    "    sender_email = \"behappy20041@gmail.com\"  # Replace with your email address\n",
    "    sender_password = \"syaa ryxd eqpk zizk\"  # Use app password if 2FA is enabled\n",
    "    subject = \"Your OTP for Login\"\n",
    "    \n",
    "    # Email content\n",
    "    message = MIMEMultipart()\n",
    "    message[\"From\"] = sender_email\n",
    "    message[\"To\"] = email\n",
    "    message[\"Subject\"] = subject\n",
    "    \n",
    "    body = f\"Your OTP for login is: {otp}\"\n",
    "    message.attach(MIMEText(body, \"plain\"))\n",
    "    \n",
    "    try:\n",
    "        # Connect to the email server\n",
    "        server = smtplib.SMTP(\"smtp.gmail.com\", 587)\n",
    "        server.starttls()\n",
    "        server.login(sender_email, sender_password)\n",
    "        \n",
    "        # Send the email\n",
    "        server.sendmail(sender_email, email, message.as_string())\n",
    "        print(\"OTP sent successfully!\")\n",
    "    except Exception as e:\n",
    "        print(f\"Failed to send OTP: {e}\")\n",
    "    finally:\n",
    "        server.quit()"
   ]
  },
  {
   "cell_type": "code",
   "execution_count": 6,
   "id": "0417a58c-5acd-4712-b723-4ff15ad301b7",
   "metadata": {},
   "outputs": [],
   "source": [
    "# Main function for 2FA\n",
    "def two_factor_authentication():\n",
    "    # Step 1: User enters their password\n",
    "    password = input(\"Enter your password: \")\n",
    "    \n",
    "    # (Here, you would typically check the password against stored credentials)\n",
    "    # Example check (replace with actual logic):\n",
    "    stored_password = \"12345\"  # Replace with the actual stored password\n",
    "    if password != stored_password:\n",
    "        print(\"Invalid password. Authentication failed.\")\n",
    "        return\n",
    "    \n",
    "    # Step 2: Generate and send OTP\n",
    "    email = input(\"Enter your email address: \")\n",
    "    otp = generate_otp()\n",
    "    send_otp_via_email(email, otp)\n",
    "    \n",
    "    # Step 3: User enters the OTP received via email\n",
    "    user_otp = input(\"Enter the OTP sent to your email: \")\n",
    "    \n",
    "    # Step 4: Validate OTP\n",
    "    if user_otp == otp:\n",
    "        print(\"Authentication successful!\")\n",
    "    else:\n",
    "        print(\"Invalid OTP. Authentication failed.\")"
   ]
  },
  {
   "cell_type": "code",
   "execution_count": 7,
   "id": "ba86fe2a-b9d1-4ec5-b415-e93a68254171",
   "metadata": {},
   "outputs": [
    {
     "name": "stdin",
     "output_type": "stream",
     "text": [
      "Enter your password:  12345\n",
      "Enter your email address:  kunal.jcdu@gmail.com\n"
     ]
    },
    {
     "name": "stdout",
     "output_type": "stream",
     "text": [
      "OTP sent successfully!\n"
     ]
    },
    {
     "name": "stdin",
     "output_type": "stream",
     "text": [
      "Enter the OTP sent to your email:  761124\n"
     ]
    },
    {
     "name": "stdout",
     "output_type": "stream",
     "text": [
      "Authentication successful!\n"
     ]
    }
   ],
   "source": [
    "# Run the 2FA process\n",
    "if __name__ == \"__main__\":\n",
    "    two_factor_authentication()"
   ]
  },
  {
   "cell_type": "code",
   "execution_count": null,
   "id": "3bcb3e6c-3620-4464-a5ee-9a7ba043c23d",
   "metadata": {},
   "outputs": [],
   "source": []
  },
  {
   "cell_type": "code",
   "execution_count": null,
   "id": "6ec43c5b-a42f-480a-b2b0-2f7b6d97733d",
   "metadata": {},
   "outputs": [],
   "source": []
  },
  {
   "cell_type": "code",
   "execution_count": null,
   "id": "136ea187-02fb-4cfd-b28d-d75479905ef7",
   "metadata": {},
   "outputs": [],
   "source": []
  }
 ],
 "metadata": {
  "kernelspec": {
   "display_name": "Python 3 (ipykernel)",
   "language": "python",
   "name": "python3"
  },
  "language_info": {
   "codemirror_mode": {
    "name": "ipython",
    "version": 3
   },
   "file_extension": ".py",
   "mimetype": "text/x-python",
   "name": "python",
   "nbconvert_exporter": "python",
   "pygments_lexer": "ipython3",
   "version": "3.12.4"
  }
 },
 "nbformat": 4,
 "nbformat_minor": 5
}
